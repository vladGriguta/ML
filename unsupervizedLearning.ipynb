{
 "cells": [
  {
   "cell_type": "markdown",
   "metadata": {},
   "source": [
    "# Unsupervized Learning\n",
    "### Description\n",
    "In this notebook I plan to go through some theory aspects of unsupervized learning models. The applications will be focussed on clustering, anomaly detection and density estimation"
   ]
  },
  {
   "cell_type": "markdown",
   "metadata": {},
   "source": [
    "'If intelligence was the cake, unsupervized learning would be the cake, supervized learning would be the icing on the cake and reinforcement learning would be the cherry on the cake.'\n",
    "In other words, there is still a great potential for AI to improve our lifes by leveraging unsupervized learning.\n",
    "\n",
    "Definitions:  \n",
    "Unsupervized learning:  \n",
    "    Training a model on unlabelled data with the purpose of revealing the intrinsic paterns.  \n",
    "Clustering:  \n",
    "    Group similar instances together into clusters  \n",
    "Anomaly Detection:  \n",
    "    Learn what 'normal' data looks like and use it to detect abnormal instances.  \n",
    "Density Estimation:  \n",
    "    Estimate the PDF of the process that generated the data.  "
   ]
  },
  {
   "cell_type": "markdown",
   "metadata": {},
   "source": [
    "## Clustering\n",
    "Examples:\n",
    "1. Customer Segmentation\n",
    "2. Dimensionality Reduction\n",
    "3. Anomaly Detection\n",
    "4. Semi-supervized learning (expand the labeling scheme to unlabeled data)\n",
    "5. Image segmentation ('simplify' image by reducing the degrees of freedom of each pixel)\n",
    "6. Search engines (provide samples from the same cluster)"
   ]
  },
  {
   "cell_type": "markdown",
   "metadata": {},
   "source": [
    "# Exercises"
   ]
  },
  {
   "cell_type": "markdown",
   "metadata": {},
   "source": [
    "1. How would you define clustering? Can you name a few clustering algorithms?  \n",
    "Clustering is type of unsupervized learning models that aims at grouping together instances in the training set based upon a certain average distance metric between each pair of instances."
   ]
  },
  {
   "cell_type": "markdown",
   "metadata": {},
   "source": [
    "2. What are some of the main applications of clustering?  \n",
    " - customer segmentation\n",
    " - anomaly detection\n",
    " - semi-supervized learning\n",
    " - search engines\n"
   ]
  },
  {
   "cell_type": "markdown",
   "metadata": {},
   "source": [
    "3. Describe two techniques to select the number of clusters in K-Means.\n",
    " - elbow method: plot inertia (mean squared error between each instance and its centroid, available via kmeans.inertia_) versus the number of clusters and choose the point of largest inflexion\n",
    " - plot silhouette score ((b-a)/max(a,b), a mean intercluster distance, b mean nearest cluster distance) versus number of clusters\n",
    " - plot silhouette score of each instance versus number of clusters and compare against aggregate silhouette coefficient"
   ]
  },
  {
   "cell_type": "markdown",
   "metadata": {},
   "source": [
    "4. What is label propagation? Why would you implement it and how?  \n",
    "Label propagation is the task of extending (propagating) the labeling scheme of the labeled data to the unlabeled data. This technique is applied in the context of semi-supervized learning, when the cost of labeling new instances of data is significant enough to make it efficien for ML engineers to automate the work.  \n",
    "A labeling propagation mechanism involves using a clustering model to group together instances both labeled and unlabeled. By assuming that the labeled instances in a group give a fair representation of the whole instances in the group, one can assign those labels to the unlabeled data.  \n",
    "One has to be wary of labeling evenly distributed data from the training set before applying the clustering method."
   ]
  },
  {
   "cell_type": "markdown",
   "metadata": {},
   "source": [
    "5. Can you name two clustering algorithms that scale well to large datasets? And two that look for regions of high density?  \n",
    " - Mini Batch K-Means; \n",
    " - DBSCAN, Gaussian Mixtures"
   ]
  },
  {
   "cell_type": "markdown",
   "metadata": {},
   "source": [
    "6. Can you think of a use case where active learning would be useful? How would you implement it?\n"
   ]
  },
  {
   "cell_type": "markdown",
   "metadata": {},
   "source": [
    "7. What is the difference between anomaly detection and novelty detection?"
   ]
  },
  {
   "cell_type": "markdown",
   "metadata": {},
   "source": [
    "8. What is a gaussian mixture? What tasks can you use it for?"
   ]
  },
  {
   "cell_type": "markdown",
   "metadata": {},
   "source": [
    "9. Can you name two techniques to find the right number of clusters when using a gaussian mixture model?"
   ]
  },
  {
   "cell_type": "markdown",
   "metadata": {},
   "source": [
    "10. Olivetti faces dataset"
   ]
  },
  {
   "cell_type": "code",
   "execution_count": 8,
   "metadata": {},
   "outputs": [
    {
     "name": "stdout",
     "output_type": "stream",
     "text": [
      "downloading Olivetti faces from https://ndownloader.figshare.com/files/5976027 to /home/vladgriguta/scikit_learn_data\n"
     ]
    }
   ],
   "source": [
    "from sklearn.datasets import fetch_olivetti_faces\n",
    "data = fetch_olivetti_faces()"
   ]
  },
  {
   "cell_type": "code",
   "execution_count": null,
   "metadata": {},
   "outputs": [],
   "source": []
  },
  {
   "cell_type": "code",
   "execution_count": null,
   "metadata": {},
   "outputs": [],
   "source": []
  }
 ],
 "metadata": {
  "kernelspec": {
   "display_name": "Python 3",
   "language": "python",
   "name": "python3"
  },
  "language_info": {
   "codemirror_mode": {
    "name": "ipython",
    "version": 3
   },
   "file_extension": ".py",
   "mimetype": "text/x-python",
   "name": "python",
   "nbconvert_exporter": "python",
   "pygments_lexer": "ipython3",
   "version": "3.7.6"
  }
 },
 "nbformat": 4,
 "nbformat_minor": 2
}
